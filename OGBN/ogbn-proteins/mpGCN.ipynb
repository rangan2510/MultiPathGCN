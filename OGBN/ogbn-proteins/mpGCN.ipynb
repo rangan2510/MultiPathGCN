{
 "cells": [
  {
   "cell_type": "code",
   "execution_count": 1,
   "metadata": {
    "execution": {
     "iopub.execute_input": "2020-09-17T12:15:05.326496Z",
     "iopub.status.busy": "2020-09-17T12:15:05.325574Z",
     "iopub.status.idle": "2020-09-17T12:15:25.754727Z",
     "shell.execute_reply": "2020-09-17T12:15:25.754052Z"
    },
    "papermill": {
     "duration": 20.443747,
     "end_time": "2020-09-17T12:15:25.754850",
     "exception": false,
     "start_time": "2020-09-17T12:15:05.311103",
     "status": "completed"
    },
    "scrolled": false,
    "tags": []
   },
   "outputs": [
    {
     "name": "stdout",
     "output_type": "stream",
     "text": [
      "Collecting dgl-cu101\r\n",
      "  Downloading dgl_cu101-0.5.2-cp37-cp37m-manylinux1_x86_64.whl (25.5 MB)\r\n",
      "\u001b[K     |████████████████████████████████| 25.5 MB 7.5 MB/s \r\n",
      "\u001b[?25hCollecting ogb\r\n",
      "  Downloading ogb-1.2.3-py3-none-any.whl (55 kB)\r\n",
      "\u001b[K     |████████████████████████████████| 55 kB 2.7 MB/s \r\n",
      "\u001b[?25hRequirement already satisfied: networkx>=2.1 in /opt/conda/lib/python3.7/site-packages (from dgl-cu101) (2.4)\r\n",
      "Requirement already satisfied: scipy>=1.1.0 in /opt/conda/lib/python3.7/site-packages (from dgl-cu101) (1.4.1)\r\n",
      "Requirement already satisfied: requests>=2.19.0 in /opt/conda/lib/python3.7/site-packages (from dgl-cu101) (2.23.0)\r\n",
      "Requirement already satisfied: numpy>=1.14.0 in /opt/conda/lib/python3.7/site-packages (from dgl-cu101) (1.18.5)\r\n",
      "Requirement already satisfied: pandas>=0.24.0 in /opt/conda/lib/python3.7/site-packages (from ogb) (1.1.1)\r\n",
      "Requirement already satisfied: urllib3>=1.24.0 in /opt/conda/lib/python3.7/site-packages (from ogb) (1.24.3)\r\n",
      "Requirement already satisfied: scikit-learn>=0.20.0 in /opt/conda/lib/python3.7/site-packages (from ogb) (0.23.2)\r\n",
      "Collecting outdated>=0.2.0\r\n",
      "  Downloading outdated-0.2.0.tar.gz (4.0 kB)\r\n",
      "Requirement already satisfied: torch>=1.2.0 in /opt/conda/lib/python3.7/site-packages (from ogb) (1.5.1)\r\n",
      "Requirement already satisfied: six>=1.12.0 in /opt/conda/lib/python3.7/site-packages (from ogb) (1.14.0)\r\n",
      "Requirement already satisfied: tqdm>=4.29.0 in /opt/conda/lib/python3.7/site-packages (from ogb) (4.45.0)\r\n",
      "Requirement already satisfied: decorator>=4.3.0 in /opt/conda/lib/python3.7/site-packages (from networkx>=2.1->dgl-cu101) (4.4.2)\r\n",
      "Requirement already satisfied: chardet<4,>=3.0.2 in /opt/conda/lib/python3.7/site-packages (from requests>=2.19.0->dgl-cu101) (3.0.4)\r\n",
      "Requirement already satisfied: certifi>=2017.4.17 in /opt/conda/lib/python3.7/site-packages (from requests>=2.19.0->dgl-cu101) (2020.6.20)\r\n",
      "Requirement already satisfied: idna<3,>=2.5 in /opt/conda/lib/python3.7/site-packages (from requests>=2.19.0->dgl-cu101) (2.9)\r\n",
      "Requirement already satisfied: python-dateutil>=2.7.3 in /opt/conda/lib/python3.7/site-packages (from pandas>=0.24.0->ogb) (2.8.1)\r\n",
      "Requirement already satisfied: pytz>=2017.2 in /opt/conda/lib/python3.7/site-packages (from pandas>=0.24.0->ogb) (2019.3)\r\n",
      "Requirement already satisfied: threadpoolctl>=2.0.0 in /opt/conda/lib/python3.7/site-packages (from scikit-learn>=0.20.0->ogb) (2.1.0)\r\n",
      "Requirement already satisfied: joblib>=0.11 in /opt/conda/lib/python3.7/site-packages (from scikit-learn>=0.20.0->ogb) (0.14.1)\r\n",
      "Collecting littleutils\r\n",
      "  Downloading littleutils-0.2.2.tar.gz (6.6 kB)\r\n",
      "Requirement already satisfied: future in /opt/conda/lib/python3.7/site-packages (from torch>=1.2.0->ogb) (0.18.2)\r\n",
      "Building wheels for collected packages: outdated, littleutils\r\n",
      "  Building wheel for outdated (setup.py) ... \u001b[?25l-\b \b\\\b \bdone\r\n",
      "\u001b[?25h  Created wheel for outdated: filename=outdated-0.2.0-py3-none-any.whl size=4960 sha256=6a75ee8dd0b618cfd1bee22e578ec091d91455d7b8524dac27964bd5b6de2aaa\r\n",
      "  Stored in directory: /root/.cache/pip/wheels/6f/cd/a2/e49170b2cf59e88b952f3414f25a54d9f16f033bded4aaab26\r\n",
      "  Building wheel for littleutils (setup.py) ... \u001b[?25l-\b \bdone\r\n",
      "\u001b[?25h  Created wheel for littleutils: filename=littleutils-0.2.2-py3-none-any.whl size=7048 sha256=e73f9f5900fca294e480b3d4b45b21b32653d8ec285a6e030619dcd192d9b5d0\r\n",
      "  Stored in directory: /root/.cache/pip/wheels/d6/64/cd/32819b511a488e4993f2fab909a95330289c3f4e0f6ef4676d\r\n",
      "Successfully built outdated littleutils\r\n",
      "Installing collected packages: dgl-cu101, littleutils, outdated, ogb\r\n",
      "Successfully installed dgl-cu101-0.5.2 littleutils-0.2.2 ogb-1.2.3 outdated-0.2.0\r\n",
      "\u001b[33mWARNING: You are using pip version 20.2.2; however, version 20.2.3 is available.\r\n",
      "You should consider upgrading via the '/opt/conda/bin/python3.7 -m pip install --upgrade pip' command.\u001b[0m\r\n"
     ]
    }
   ],
   "source": [
    "#%%\n",
    "! pip install dgl-cu101 ogb\n",
    "ROOT = \"/kaggle/input/obgnproteins-dgl-data/\""
   ]
  },
  {
   "cell_type": "code",
   "execution_count": 2,
   "metadata": {
    "execution": {
     "iopub.execute_input": "2020-09-17T12:15:25.876394Z",
     "iopub.status.busy": "2020-09-17T12:15:25.875468Z",
     "iopub.status.idle": "2020-09-17T12:15:32.856090Z",
     "shell.execute_reply": "2020-09-17T12:15:32.857215Z"
    },
    "papermill": {
     "duration": 7.04787,
     "end_time": "2020-09-17T12:15:32.857386",
     "exception": false,
     "start_time": "2020-09-17T12:15:25.809516",
     "status": "completed"
    },
    "scrolled": false,
    "tags": []
   },
   "outputs": [
    {
     "name": "stderr",
     "output_type": "stream",
     "text": [
      "DGL backend not selected or invalid.  Assuming PyTorch for now.\n",
      "Using backend: pytorch\n"
     ]
    },
    {
     "name": "stdout",
     "output_type": "stream",
     "text": [
      "Setting the default backend to \"pytorch\". You can change it in the ~/.dgl/config.json file or export the DGLBACKEND environment variable.  Valid options are: pytorch, mxnet, tensorflow (all lowercase)\n"
     ]
    }
   ],
   "source": [
    "from dgl.data.utils import load_graphs\n",
    "import numpy as np\n",
    "import random\n",
    "import os\n",
    "import math\n",
    "import time\n",
    "import torch\n",
    "import torch.nn as nn\n",
    "import torch.nn.functional as F\n",
    "import dgl\n",
    "import dgl.function as fn\n",
    "from dgl import DGLGraph\n",
    "from dgl.nn import GraphConv, SAGEConv\n",
    "from ogb.nodeproppred import Evaluator\n",
    "from torch.optim import Adam\n",
    "from torch.utils.tensorboard import SummaryWriter\n",
    "from torch.optim.lr_scheduler import ReduceLROnPlateau\n",
    "\n",
    "x,_ = load_graphs(ROOT + \"data.bin\")\n",
    "graph = x[0]\n",
    "\n",
    "train_idx = torch.load(ROOT + 'train.pt')\n",
    "test_idx = torch.load(ROOT + 'test.pt')\n",
    "valid_idx = torch.load(ROOT + 'valid.pt')\n",
    "\n",
    "splitted_idx = {'train':train_idx, 'test':test_idx, 'valid':valid_idx}\n",
    "\n",
    "device = torch.device('cuda')"
   ]
  },
  {
   "cell_type": "code",
   "execution_count": 3,
   "metadata": {
    "execution": {
     "iopub.execute_input": "2020-09-17T12:15:33.027397Z",
     "iopub.status.busy": "2020-09-17T12:15:33.026568Z",
     "iopub.status.idle": "2020-09-17T12:15:35.237345Z",
     "shell.execute_reply": "2020-09-17T12:15:35.236684Z"
    },
    "papermill": {
     "duration": 2.301851,
     "end_time": "2020-09-17T12:15:35.237478",
     "exception": false,
     "start_time": "2020-09-17T12:15:32.935627",
     "status": "completed"
    },
    "scrolled": false,
    "tags": []
   },
   "outputs": [],
   "source": [
    "# copy mean of edge features to node\n",
    "# split node feature for every channel of the edge\n",
    "graph.update_all(fn.copy_e('feat','m'),fn.sum('m','edata_mean'))\n",
    "\n",
    "n_feat = graph.ndata['edata_mean'].shape[1]\n",
    "\n",
    "for channel in range(n_feat):\n",
    "        graph.ndata['feat_' + str(channel)] = graph.ndata['edata_mean'][:, channel:channel+1]\n"
   ]
  },
  {
   "cell_type": "code",
   "execution_count": 4,
   "metadata": {
    "execution": {
     "iopub.execute_input": "2020-09-17T12:15:35.364038Z",
     "iopub.status.busy": "2020-09-17T12:15:35.362246Z",
     "iopub.status.idle": "2020-09-17T12:15:35.364900Z",
     "shell.execute_reply": "2020-09-17T12:15:35.365381Z"
    },
    "papermill": {
     "duration": 0.073033,
     "end_time": "2020-09-17T12:15:35.365499",
     "exception": false,
     "start_time": "2020-09-17T12:15:35.292466",
     "status": "completed"
    },
    "scrolled": false,
    "tags": []
   },
   "outputs": [],
   "source": [
    "def set_random_seed(seed):\n",
    "    random.seed(seed)\n",
    "    np.random.seed(seed)\n",
    "    torch.manual_seed(seed)\n",
    "    if torch.cuda.is_available():\n",
    "        torch.cuda.manual_seed(seed)\n",
    "    print ('random seed set to be ' + str(seed))\n",
    "\n",
    "def run_a_train_epoch(graph, node_idx, model, criterion, optimizer, evaluator):\n",
    "    model.train()\n",
    "    logits = model(graph)[node_idx]\n",
    "    labels = graph.ndata['labels'][node_idx]\n",
    "    loss = criterion(logits, labels)\n",
    "    optimizer.zero_grad()\n",
    "    loss.backward()\n",
    "    optimizer.step()\n",
    "\n",
    "    loss = loss.data.item()\n",
    "    labels = labels.cpu().numpy()\n",
    "    preds = logits.cpu().detach().numpy()\n",
    "\n",
    "    return loss, evaluator.eval({\"y_true\": labels, \"y_pred\": preds})['rocauc']\n",
    "\n",
    "def run_an_eval_epoch(graph, splitted_idx, model, evaluator):\n",
    "    model.eval()\n",
    "    with torch.no_grad():\n",
    "        logits = model(graph)\n",
    "    labels = graph.ndata['labels'].cpu().numpy()\n",
    "    preds = logits.cpu().detach().numpy()\n",
    "\n",
    "    train_score = evaluator.eval({\n",
    "        \"y_true\": labels[splitted_idx[\"train\"]],\n",
    "        \"y_pred\": preds[splitted_idx[\"train\"]]\n",
    "    })\n",
    "    val_score = evaluator.eval({\n",
    "        \"y_true\": labels[splitted_idx[\"valid\"]],\n",
    "        \"y_pred\": preds[splitted_idx[\"valid\"]]\n",
    "    })\n",
    "    test_score = evaluator.eval({\n",
    "        \"y_true\": labels[splitted_idx[\"test\"]],\n",
    "        \"y_pred\": preds[splitted_idx[\"test\"]]\n",
    "    })\n",
    "\n",
    "    return train_score['rocauc'], val_score['rocauc'], test_score['rocauc']"
   ]
  },
  {
   "cell_type": "code",
   "execution_count": 5,
   "metadata": {
    "execution": {
     "iopub.execute_input": "2020-09-17T12:15:35.484904Z",
     "iopub.status.busy": "2020-09-17T12:15:35.484051Z",
     "iopub.status.idle": "2020-09-17T12:15:35.848796Z",
     "shell.execute_reply": "2020-09-17T12:15:35.849535Z"
    },
    "papermill": {
     "duration": 0.432097,
     "end_time": "2020-09-17T12:15:35.849740",
     "exception": false,
     "start_time": "2020-09-17T12:15:35.417643",
     "status": "completed"
    },
    "scrolled": false,
    "tags": []
   },
   "outputs": [
    {
     "name": "stdout",
     "output_type": "stream",
     "text": [
      "random seed set to be 0\n"
     ]
    }
   ],
   "source": [
    "set_random_seed(0)\n",
    "\n",
    "class Block(nn.Module):\n",
    "    def __init__(self,in_feats,out_feats,num_channels=8):\n",
    "        super(Block, self).__init__()\n",
    "        self.gc = GraphConv(in_feats, out_feats)\n",
    "        \n",
    "    def forward(self, g, node_state):\n",
    "        node_states = self.gc(g, node_state)\n",
    "        node_states = F.relu(node_states)\n",
    "        return node_states\n",
    "\n",
    "class Net(nn.Module):\n",
    "    def __init__(self, in_feats, n_hidden, out_feats,num_paths=2):\n",
    "        super(Net, self).__init__()\n",
    "        self.num_paths = num_paths\n",
    "        # self.att = nn.Parameter(torch.ones([num_paths]))\n",
    "        self.init = Block(in_feats, n_hidden)\n",
    "        self.lyrs = nn.ModuleList()\n",
    "        for _ in range(6):\n",
    "            self.lyrs.append(Block(n_hidden, n_hidden))\n",
    "        self.lin = nn.Linear(n_hidden, out_feats)\n",
    "        \n",
    "    def forward(self, g):\n",
    "        node_state = g.ndata['edata_mean']\n",
    "        out = self.init(g, node_state)\n",
    "        _out = out\n",
    "        for i in range(4):\n",
    "            out = self.lyrs[i](g, out)\n",
    "        for i in range(4,6):\n",
    "            _out = self.lyrs[i](g, _out)\n",
    "        out = torch.stack([out, _out],dim=1).sum(1)\n",
    "        out = self.lin(out)\n",
    "        return out"
   ]
  },
  {
   "cell_type": "code",
   "execution_count": 6,
   "metadata": {
    "execution": {
     "iopub.execute_input": "2020-09-17T12:15:35.971049Z",
     "iopub.status.busy": "2020-09-17T12:15:35.970319Z",
     "iopub.status.idle": "2020-09-17T12:15:41.312713Z",
     "shell.execute_reply": "2020-09-17T12:15:41.311814Z"
    },
    "papermill": {
     "duration": 5.406074,
     "end_time": "2020-09-17T12:15:41.312839",
     "exception": false,
     "start_time": "2020-09-17T12:15:35.906765",
     "status": "completed"
    },
    "scrolled": false,
    "tags": []
   },
   "outputs": [
    {
     "name": "stdout",
     "output_type": "stream",
     "text": [
      "scheduler min_lr 0.001\n"
     ]
    }
   ],
   "source": [
    "warmup_epochs = 10\n",
    "num_epochs = 200\n",
    "patience = 50\n",
    "log_every = 10\n",
    "lr = 1e-2\n",
    "weight_decay = 0\n",
    "\n",
    "model = Net(in_feats=8, n_hidden=256, out_feats=112).to(device)\n",
    "graph = graph.to(device)\n",
    "\n",
    "optimizer = Adam(model.parameters(), lr=lr, weight_decay=weight_decay)\n",
    "min_lr = 1e-3\n",
    "scheduler = ReduceLROnPlateau(optimizer, 'max', factor=0.7, patience=100,  verbose=True, cooldown=20, min_lr=min_lr)\n",
    "print ('scheduler min_lr', min_lr)\n",
    "criterion = nn.BCEWithLogitsLoss()\n",
    "evaluator = Evaluator('ogbn-proteins')\n"
   ]
  },
  {
   "cell_type": "code",
   "execution_count": 7,
   "metadata": {
    "execution": {
     "iopub.execute_input": "2020-09-17T12:15:41.438299Z",
     "iopub.status.busy": "2020-09-17T12:15:41.437130Z",
     "iopub.status.idle": "2020-09-17T12:49:14.344413Z",
     "shell.execute_reply": "2020-09-17T12:49:14.342913Z"
    },
    "papermill": {
     "duration": 2012.976475,
     "end_time": "2020-09-17T12:49:14.344535",
     "exception": false,
     "start_time": "2020-09-17T12:15:41.368060",
     "status": "completed"
    },
    "scrolled": false,
    "tags": []
   },
   "outputs": [
    {
     "name": "stdout",
     "output_type": "stream",
     "text": [
      "Warming up for 10 epochs...\n",
      "Done in 56.75 sec\n",
      "Epoch 10\t loss 0.3979\t train score 0.5191\t val score 0.4207\t test score 0.4776\t dur 11.72s\t patience 0\n",
      "Epoch 20\t loss 0.3586\t train score 0.6125\t val score 0.6172\t test score 0.6265\t dur 11.66s\t patience 0\n",
      "Epoch 30\t loss 0.3269\t train score 0.6895\t val score 0.7015\t test score 0.6835\t dur 11.28s\t patience 0\n",
      "Epoch 40\t loss 0.3100\t train score 0.7406\t val score 0.7467\t test score 0.7047\t dur 11.11s\t patience 2\n",
      "Epoch 50\t loss 0.2983\t train score 0.7721\t val score 0.7683\t test score 0.7213\t dur 11.35s\t patience 0\n",
      "Epoch 60\t loss 0.2932\t train score 0.7822\t val score 0.7716\t test score 0.7298\t dur 11.43s\t patience 0\n",
      "Epoch 70\t loss 0.2896\t train score 0.7923\t val score 0.7776\t test score 0.7360\t dur 11.26s\t patience 0\n",
      "Epoch 80\t loss 0.2955\t train score 0.7957\t val score 0.7797\t test score 0.7293\t dur 11.14s\t patience 6\n",
      "Epoch 90\t loss 0.2850\t train score 0.8005\t val score 0.7862\t test score 0.7418\t dur 11.05s\t patience 2\n",
      "Epoch   103: reducing learning rate of group 0 to 7.0000e-03.\n",
      "Epoch 100\t loss 0.2820\t train score 0.8067\t val score 0.7877\t test score 0.7472\t dur 10.93s\t patience 1\n",
      "Epoch 110\t loss 0.2788\t train score 0.8125\t val score 0.7908\t test score 0.7483\t dur 11.91s\t patience 2\n",
      "Epoch 120\t loss 0.2765\t train score 0.8173\t val score 0.7934\t test score 0.7460\t dur 11.36s\t patience 2\n",
      "Epoch 130\t loss 0.2759\t train score 0.8217\t val score 0.7943\t test score 0.7523\t dur 11.44s\t patience 7\n",
      "Epoch 140\t loss 0.2730\t train score 0.8262\t val score 0.7981\t test score 0.7504\t dur 11.27s\t patience 17\n",
      "Epoch 150\t loss 0.2691\t train score 0.8302\t val score 0.8012\t test score 0.7504\t dur 11.26s\t patience 27\n",
      "Epoch 160\t loss 0.2673\t train score 0.8333\t val score 0.8020\t test score 0.7447\t dur 11.02s\t patience 37\n",
      "Epoch 170\t loss 0.2664\t train score 0.8340\t val score 0.8037\t test score 0.7444\t dur 11.12s\t patience 47\n"
     ]
    }
   ],
   "source": [
    "dur = []\n",
    "best_score = 0.\n",
    "num_patient_epochs = 0\n",
    "model_folder = './saved_models/'\n",
    "model_path = model_folder + \"model.pt\"\n",
    "log_path = \"log.txt\"\n",
    "\n",
    "def printw(line):\n",
    "    with open(log_path,'a') as f:\n",
    "        f.write(line+\"\\n\")\n",
    "    print(line)\n",
    "\n",
    "if not os.path.exists(model_folder):\n",
    "    os.makedirs(model_folder)\n",
    "    \n",
    "print(\"Warming up for {:d} epochs...\".format(warmup_epochs))\n",
    "t0 = time.time()\n",
    "for _ in range(warmup_epochs):\n",
    "    loss, train_score = run_a_train_epoch(graph, splitted_idx[\"train\"], model, criterion, optimizer, evaluator)\n",
    "    scheduler.step(loss)\n",
    "dur = time.time() - t0 \n",
    "print(\"Done in {:.2f} sec\".format(dur))\n",
    "\n",
    "for epoch in range(1, num_epochs + 1):\n",
    "    t0 = time.time()\n",
    "    loss, train_score = run_a_train_epoch(graph, splitted_idx[\"train\"], model, criterion, optimizer, evaluator)\n",
    "    train_score, val_score, test_score = run_an_eval_epoch(graph, splitted_idx, model, evaluator)\n",
    "    scheduler.step(val_score)\n",
    "    dur = time.time() - t0   \n",
    "\n",
    "    # Early stop\n",
    "    if test_score > best_score:\n",
    "        torch.save(model.state_dict(), model_path)\n",
    "        best_score = test_score\n",
    "        num_patient_epochs = 0\n",
    "    else:\n",
    "        num_patient_epochs += 1\n",
    "\n",
    "    if (epoch%log_every) == 0:\n",
    "        printw('Epoch {:d}\\t loss {:.4f}\\t train score {:.4f}\\t val score {:.4f}\\t test score {:.4f}\\t dur {:.2f}s\\t patience {:d}'.format(epoch, loss, train_score, val_score,test_score, dur, num_patient_epochs))\n",
    "\n",
    "    if num_patient_epochs == patience:\n",
    "        break"
   ]
  },
  {
   "cell_type": "code",
   "execution_count": 8,
   "metadata": {
    "execution": {
     "iopub.execute_input": "2020-09-17T12:49:14.468506Z",
     "iopub.status.busy": "2020-09-17T12:49:14.467664Z",
     "iopub.status.idle": "2020-09-17T12:49:14.471646Z",
     "shell.execute_reply": "2020-09-17T12:49:14.472134Z"
    },
    "papermill": {
     "duration": 0.069019,
     "end_time": "2020-09-17T12:49:14.472263",
     "exception": false,
     "start_time": "2020-09-17T12:49:14.403244",
     "status": "completed"
    },
    "scrolled": false,
    "tags": []
   },
   "outputs": [
    {
     "name": "stdout",
     "output_type": "stream",
     "text": [
      "Best test score: 0.7571064067803127\n"
     ]
    }
   ],
   "source": [
    "printw(\"Best test score: \" +  str(best_score))"
   ]
  },
  {
   "cell_type": "code",
   "execution_count": null,
   "metadata": {
    "papermill": {
     "duration": 0.058612,
     "end_time": "2020-09-17T12:49:14.589553",
     "exception": false,
     "start_time": "2020-09-17T12:49:14.530941",
     "status": "completed"
    },
    "tags": []
   },
   "outputs": [],
   "source": []
  }
 ],
 "metadata": {
  "kernelspec": {
   "display_name": "Python 3",
   "language": "python",
   "name": "python3"
  },
  "language_info": {
   "codemirror_mode": {
    "name": "ipython",
    "version": 3
   },
   "file_extension": ".py",
   "mimetype": "text/x-python",
   "name": "python",
   "nbconvert_exporter": "python",
   "pygments_lexer": "ipython3",
   "version": "3.7.6"
  },
  "papermill": {
   "duration": 2055.524501,
   "end_time": "2020-09-17T12:49:16.446851",
   "environment_variables": {},
   "exception": null,
   "input_path": "__notebook__.ipynb",
   "output_path": "__notebook__.ipynb",
   "parameters": {},
   "start_time": "2020-09-17T12:15:00.922350",
   "version": "2.1.0"
  }
 },
 "nbformat": 4,
 "nbformat_minor": 4
}
