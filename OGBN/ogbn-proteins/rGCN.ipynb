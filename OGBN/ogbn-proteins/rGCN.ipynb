{
 "cells": [
  {
   "cell_type": "code",
   "execution_count": 1,
   "metadata": {
    "execution": {
     "iopub.execute_input": "2020-09-17T14:35:41.338619Z",
     "iopub.status.busy": "2020-09-17T14:35:41.337742Z",
     "iopub.status.idle": "2020-09-17T14:35:59.272686Z",
     "shell.execute_reply": "2020-09-17T14:35:59.272060Z"
    },
    "papermill": {
     "duration": 17.949108,
     "end_time": "2020-09-17T14:35:59.272814",
     "exception": false,
     "start_time": "2020-09-17T14:35:41.323706",
     "status": "completed"
    },
    "scrolled": false,
    "tags": []
   },
   "outputs": [
    {
     "name": "stdout",
     "output_type": "stream",
     "text": [
      "Collecting dgl-cu101\r\n",
      "  Downloading dgl_cu101-0.5.2-cp37-cp37m-manylinux1_x86_64.whl (25.5 MB)\r\n",
      "\u001b[K     |████████████████████████████████| 25.5 MB 18.7 MB/s \r\n",
      "\u001b[?25hCollecting ogb\r\n",
      "  Downloading ogb-1.2.3-py3-none-any.whl (55 kB)\r\n",
      "\u001b[K     |████████████████████████████████| 55 kB 2.5 MB/s \r\n",
      "\u001b[?25hRequirement already satisfied: scipy>=1.1.0 in /opt/conda/lib/python3.7/site-packages (from dgl-cu101) (1.4.1)\r\n",
      "Requirement already satisfied: numpy>=1.14.0 in /opt/conda/lib/python3.7/site-packages (from dgl-cu101) (1.18.5)\r\n",
      "Requirement already satisfied: networkx>=2.1 in /opt/conda/lib/python3.7/site-packages (from dgl-cu101) (2.4)\r\n",
      "Requirement already satisfied: requests>=2.19.0 in /opt/conda/lib/python3.7/site-packages (from dgl-cu101) (2.23.0)\r\n",
      "Requirement already satisfied: pandas>=0.24.0 in /opt/conda/lib/python3.7/site-packages (from ogb) (1.1.1)\r\n",
      "Requirement already satisfied: tqdm>=4.29.0 in /opt/conda/lib/python3.7/site-packages (from ogb) (4.45.0)\r\n",
      "Requirement already satisfied: scikit-learn>=0.20.0 in /opt/conda/lib/python3.7/site-packages (from ogb) (0.23.2)\r\n",
      "Collecting outdated>=0.2.0\r\n",
      "  Downloading outdated-0.2.0.tar.gz (4.0 kB)\r\n",
      "Requirement already satisfied: urllib3>=1.24.0 in /opt/conda/lib/python3.7/site-packages (from ogb) (1.24.3)\r\n",
      "Requirement already satisfied: six>=1.12.0 in /opt/conda/lib/python3.7/site-packages (from ogb) (1.14.0)\r\n",
      "Requirement already satisfied: torch>=1.2.0 in /opt/conda/lib/python3.7/site-packages (from ogb) (1.5.1)\r\n",
      "Requirement already satisfied: decorator>=4.3.0 in /opt/conda/lib/python3.7/site-packages (from networkx>=2.1->dgl-cu101) (4.4.2)\r\n",
      "Requirement already satisfied: idna<3,>=2.5 in /opt/conda/lib/python3.7/site-packages (from requests>=2.19.0->dgl-cu101) (2.9)\r\n",
      "Requirement already satisfied: chardet<4,>=3.0.2 in /opt/conda/lib/python3.7/site-packages (from requests>=2.19.0->dgl-cu101) (3.0.4)\r\n",
      "Requirement already satisfied: certifi>=2017.4.17 in /opt/conda/lib/python3.7/site-packages (from requests>=2.19.0->dgl-cu101) (2020.6.20)\r\n",
      "Requirement already satisfied: python-dateutil>=2.7.3 in /opt/conda/lib/python3.7/site-packages (from pandas>=0.24.0->ogb) (2.8.1)\r\n",
      "Requirement already satisfied: pytz>=2017.2 in /opt/conda/lib/python3.7/site-packages (from pandas>=0.24.0->ogb) (2019.3)\r\n",
      "Requirement already satisfied: threadpoolctl>=2.0.0 in /opt/conda/lib/python3.7/site-packages (from scikit-learn>=0.20.0->ogb) (2.1.0)\r\n",
      "Requirement already satisfied: joblib>=0.11 in /opt/conda/lib/python3.7/site-packages (from scikit-learn>=0.20.0->ogb) (0.14.1)\r\n",
      "Collecting littleutils\r\n",
      "  Downloading littleutils-0.2.2.tar.gz (6.6 kB)\r\n",
      "Requirement already satisfied: future in /opt/conda/lib/python3.7/site-packages (from torch>=1.2.0->ogb) (0.18.2)\r\n",
      "Building wheels for collected packages: outdated, littleutils\r\n",
      "  Building wheel for outdated (setup.py) ... \u001b[?25l-\b \b\\\b \bdone\r\n",
      "\u001b[?25h  Created wheel for outdated: filename=outdated-0.2.0-py3-none-any.whl size=4960 sha256=e27d224c62a7fbe616f2904662309657d72318f9a0cb76023416794b96cc3089\r\n",
      "  Stored in directory: /root/.cache/pip/wheels/6f/cd/a2/e49170b2cf59e88b952f3414f25a54d9f16f033bded4aaab26\r\n",
      "  Building wheel for littleutils (setup.py) ... \u001b[?25l-\b \b\\\b \bdone\r\n",
      "\u001b[?25h  Created wheel for littleutils: filename=littleutils-0.2.2-py3-none-any.whl size=7048 sha256=98791282023e09160dd3edbd7dde59155b1d20e6df64991f1108049fdefb8b26\r\n",
      "  Stored in directory: /root/.cache/pip/wheels/d6/64/cd/32819b511a488e4993f2fab909a95330289c3f4e0f6ef4676d\r\n",
      "Successfully built outdated littleutils\r\n",
      "Installing collected packages: dgl-cu101, littleutils, outdated, ogb\r\n",
      "Successfully installed dgl-cu101-0.5.2 littleutils-0.2.2 ogb-1.2.3 outdated-0.2.0\r\n",
      "\u001b[33mWARNING: You are using pip version 20.2.2; however, version 20.2.3 is available.\r\n",
      "You should consider upgrading via the '/opt/conda/bin/python3.7 -m pip install --upgrade pip' command.\u001b[0m\r\n"
     ]
    }
   ],
   "source": [
    "#%%\n",
    "! pip install dgl-cu101 ogb\n",
    "ROOT = \"/kaggle/input/obgnproteins-dgl-data/\""
   ]
  },
  {
   "cell_type": "code",
   "execution_count": 2,
   "metadata": {
    "execution": {
     "iopub.execute_input": "2020-09-17T14:35:59.350971Z",
     "iopub.status.busy": "2020-09-17T14:35:59.350085Z",
     "iopub.status.idle": "2020-09-17T14:36:06.384957Z",
     "shell.execute_reply": "2020-09-17T14:36:06.383911Z"
    },
    "papermill": {
     "duration": 7.078313,
     "end_time": "2020-09-17T14:36:06.385089",
     "exception": false,
     "start_time": "2020-09-17T14:35:59.306776",
     "status": "completed"
    },
    "scrolled": false,
    "tags": []
   },
   "outputs": [
    {
     "name": "stdout",
     "output_type": "stream",
     "text": [
      "Setting the default backend to \"pytorch\". You can change it in the ~/.dgl/config.json file or export the DGLBACKEND environment variable.  Valid options are: pytorch, mxnet, tensorflow (all lowercase)\n"
     ]
    },
    {
     "name": "stderr",
     "output_type": "stream",
     "text": [
      "DGL backend not selected or invalid.  Assuming PyTorch for now.\n",
      "Using backend: pytorch\n"
     ]
    }
   ],
   "source": [
    "from dgl.data.utils import load_graphs\n",
    "import numpy as np\n",
    "import random\n",
    "import os\n",
    "import math\n",
    "import time\n",
    "import torch\n",
    "import torch.nn as nn\n",
    "import torch.nn.functional as F\n",
    "import dgl\n",
    "import dgl.function as fn\n",
    "from dgl import DGLGraph\n",
    "from dgl.nn import GraphConv, SAGEConv\n",
    "from ogb.nodeproppred import Evaluator\n",
    "from torch.optim import Adam\n",
    "from torch.utils.tensorboard import SummaryWriter\n",
    "from torch.optim.lr_scheduler import ReduceLROnPlateau\n",
    "\n",
    "x,_ = load_graphs(ROOT + \"data.bin\")\n",
    "graph = x[0]\n",
    "\n",
    "train_idx = torch.load(ROOT + 'train.pt')\n",
    "test_idx = torch.load(ROOT + 'test.pt')\n",
    "valid_idx = torch.load(ROOT + 'valid.pt')\n",
    "\n",
    "splitted_idx = {'train':train_idx, 'test':test_idx, 'valid':valid_idx}\n",
    "\n",
    "device = torch.device('cuda')"
   ]
  },
  {
   "cell_type": "code",
   "execution_count": 3,
   "metadata": {
    "execution": {
     "iopub.execute_input": "2020-09-17T14:36:06.460851Z",
     "iopub.status.busy": "2020-09-17T14:36:06.460152Z",
     "iopub.status.idle": "2020-09-17T14:36:09.132864Z",
     "shell.execute_reply": "2020-09-17T14:36:09.132208Z"
    },
    "papermill": {
     "duration": 2.714703,
     "end_time": "2020-09-17T14:36:09.133037",
     "exception": false,
     "start_time": "2020-09-17T14:36:06.418334",
     "status": "completed"
    },
    "scrolled": false,
    "tags": []
   },
   "outputs": [],
   "source": [
    "# copy mean of edge features to node\n",
    "# split node feature for every channel of the edge\n",
    "graph.update_all(fn.copy_e('feat','m'),fn.sum('m','edata_mean'))\n",
    "\n",
    "n_feat = graph.ndata['edata_mean'].shape[1]\n",
    "\n",
    "for channel in range(n_feat):\n",
    "        graph.ndata['feat_' + str(channel)] = graph.ndata['edata_mean'][:, channel:channel+1]\n"
   ]
  },
  {
   "cell_type": "code",
   "execution_count": 4,
   "metadata": {
    "execution": {
     "iopub.execute_input": "2020-09-17T14:36:09.219949Z",
     "iopub.status.busy": "2020-09-17T14:36:09.218045Z",
     "iopub.status.idle": "2020-09-17T14:36:09.220703Z",
     "shell.execute_reply": "2020-09-17T14:36:09.221172Z"
    },
    "papermill": {
     "duration": 0.054658,
     "end_time": "2020-09-17T14:36:09.221304",
     "exception": false,
     "start_time": "2020-09-17T14:36:09.166646",
     "status": "completed"
    },
    "scrolled": false,
    "tags": []
   },
   "outputs": [],
   "source": [
    "def set_random_seed(seed):\n",
    "    random.seed(seed)\n",
    "    np.random.seed(seed)\n",
    "    torch.manual_seed(seed)\n",
    "    if torch.cuda.is_available():\n",
    "        torch.cuda.manual_seed(seed)\n",
    "    print ('random seed set to be ' + str(seed))\n",
    "\n",
    "def run_a_train_epoch(graph, node_idx, model, criterion, optimizer, evaluator):\n",
    "    model.train()\n",
    "    logits = model(graph)[node_idx]\n",
    "    labels = graph.ndata['labels'][node_idx]\n",
    "    loss = criterion(logits, labels)\n",
    "    optimizer.zero_grad()\n",
    "    loss.backward()\n",
    "    optimizer.step()\n",
    "\n",
    "    loss = loss.data.item()\n",
    "    labels = labels.cpu().numpy()\n",
    "    preds = logits.cpu().detach().numpy()\n",
    "\n",
    "    return loss, evaluator.eval({\"y_true\": labels, \"y_pred\": preds})['rocauc']\n",
    "\n",
    "def run_an_eval_epoch(graph, splitted_idx, model, evaluator):\n",
    "    model.eval()\n",
    "    with torch.no_grad():\n",
    "        logits = model(graph)\n",
    "    labels = graph.ndata['labels'].cpu().numpy()\n",
    "    preds = logits.cpu().detach().numpy()\n",
    "\n",
    "    train_score = evaluator.eval({\n",
    "        \"y_true\": labels[splitted_idx[\"train\"]],\n",
    "        \"y_pred\": preds[splitted_idx[\"train\"]]\n",
    "    })\n",
    "    val_score = evaluator.eval({\n",
    "        \"y_true\": labels[splitted_idx[\"valid\"]],\n",
    "        \"y_pred\": preds[splitted_idx[\"valid\"]]\n",
    "    })\n",
    "    test_score = evaluator.eval({\n",
    "        \"y_true\": labels[splitted_idx[\"test\"]],\n",
    "        \"y_pred\": preds[splitted_idx[\"test\"]]\n",
    "    })\n",
    "\n",
    "    return train_score['rocauc'], val_score['rocauc'], test_score['rocauc']"
   ]
  },
  {
   "cell_type": "code",
   "execution_count": 5,
   "metadata": {
    "execution": {
     "iopub.execute_input": "2020-09-17T14:36:09.302213Z",
     "iopub.status.busy": "2020-09-17T14:36:09.301411Z",
     "iopub.status.idle": "2020-09-17T14:36:09.658752Z",
     "shell.execute_reply": "2020-09-17T14:36:09.659719Z"
    },
    "papermill": {
     "duration": 0.404041,
     "end_time": "2020-09-17T14:36:09.659865",
     "exception": false,
     "start_time": "2020-09-17T14:36:09.255824",
     "status": "completed"
    },
    "scrolled": false,
    "tags": []
   },
   "outputs": [
    {
     "name": "stdout",
     "output_type": "stream",
     "text": [
      "random seed set to be 0\n"
     ]
    }
   ],
   "source": [
    "set_random_seed(0)\n",
    "\n",
    "class Block(nn.Module):\n",
    "    def __init__(self,in_feats,out_feats,num_channels=8):\n",
    "        super(Block, self).__init__()\n",
    "        self.gc = GraphConv(in_feats, out_feats)\n",
    "        \n",
    "    def forward(self, g, node_state):\n",
    "        node_states = self.gc(g, node_state)\n",
    "        node_states = F.relu(node_states)\n",
    "        return node_states\n",
    "\n",
    "class Net(nn.Module):\n",
    "    def __init__(self, in_feats, n_hidden, out_feats,num_paths=2):\n",
    "        super(Net, self).__init__()\n",
    "        self.num_paths = num_paths\n",
    "        self.init = Block(in_feats, n_hidden)\n",
    "        self.lyrs = nn.ModuleList()\n",
    "        for _ in range(6):\n",
    "            self.lyrs.append(Block(n_hidden, n_hidden))\n",
    "        self.lin = nn.Linear(n_hidden, out_feats)\n",
    "        \n",
    "    def forward(self, g):\n",
    "        node_state = g.ndata['edata_mean']\n",
    "        out = self.init(g, node_state)\n",
    "        \n",
    "        for i in range(6):\n",
    "            _out = out\n",
    "            out = self.lyrs[i](g, out)\n",
    "            out += _out\n",
    "        # for i in range(4,6):\n",
    "        #     _out = self.lyrs[i](g, _out)\n",
    "        # out = torch.stack([out, _out],dim=1).sum(1)\n",
    "        out = self.lin(out)\n",
    "        return out"
   ]
  },
  {
   "cell_type": "code",
   "execution_count": 6,
   "metadata": {
    "execution": {
     "iopub.execute_input": "2020-09-17T14:36:09.736086Z",
     "iopub.status.busy": "2020-09-17T14:36:09.735457Z",
     "iopub.status.idle": "2020-09-17T14:36:15.071374Z",
     "shell.execute_reply": "2020-09-17T14:36:15.072226Z"
    },
    "papermill": {
     "duration": 5.378679,
     "end_time": "2020-09-17T14:36:15.072364",
     "exception": false,
     "start_time": "2020-09-17T14:36:09.693685",
     "status": "completed"
    },
    "scrolled": false,
    "tags": []
   },
   "outputs": [
    {
     "name": "stdout",
     "output_type": "stream",
     "text": [
      "scheduler min_lr 0.001\n"
     ]
    }
   ],
   "source": [
    "warmup_epochs = 10\n",
    "num_epochs = 500\n",
    "patience = 50\n",
    "log_every = 10\n",
    "lr = 1e-2\n",
    "weight_decay = 0\n",
    "\n",
    "model = Net(in_feats=8, n_hidden=256, out_feats=112).to(device)\n",
    "graph = graph.to(device)\n",
    "\n",
    "optimizer = Adam(model.parameters(), lr=lr, weight_decay=weight_decay)\n",
    "min_lr = 1e-3\n",
    "scheduler = ReduceLROnPlateau(optimizer, 'max', factor=0.7, patience=200,  verbose=True, cooldown=20, min_lr=min_lr)\n",
    "print ('scheduler min_lr', min_lr)\n",
    "criterion = nn.BCEWithLogitsLoss()\n",
    "evaluator = Evaluator('ogbn-proteins')\n"
   ]
  },
  {
   "cell_type": "code",
   "execution_count": 7,
   "metadata": {
    "execution": {
     "iopub.execute_input": "2020-09-17T14:36:15.153424Z",
     "iopub.status.busy": "2020-09-17T14:36:15.152505Z",
     "iopub.status.idle": "2020-09-17T15:19:33.774812Z",
     "shell.execute_reply": "2020-09-17T15:19:33.775362Z"
    },
    "papermill": {
     "duration": 2598.670071,
     "end_time": "2020-09-17T15:19:33.775513",
     "exception": false,
     "start_time": "2020-09-17T14:36:15.105442",
     "status": "completed"
    },
    "scrolled": false,
    "tags": []
   },
   "outputs": [
    {
     "name": "stdout",
     "output_type": "stream",
     "text": [
      "Warming up for 10 epochs...\n",
      "Done in 56.68 sec\n",
      "Epoch 10\t loss 0.5154\t train score 0.4649\t val score 0.4017\t test score 0.4204\t dur 11.30s\t patience 5\n",
      "Epoch 20\t loss 0.4200\t train score 0.5424\t val score 0.4780\t test score 0.4805\t dur 11.52s\t patience 0\n",
      "Epoch 30\t loss 0.3701\t train score 0.5834\t val score 0.5480\t test score 0.5538\t dur 11.64s\t patience 0\n",
      "Epoch 40\t loss 0.3517\t train score 0.6326\t val score 0.6128\t test score 0.5538\t dur 12.09s\t patience 0\n",
      "Epoch 50\t loss 0.3386\t train score 0.6639\t val score 0.6660\t test score 0.5609\t dur 11.69s\t patience 1\n",
      "Epoch 60\t loss 0.3278\t train score 0.6998\t val score 0.7005\t test score 0.5758\t dur 11.82s\t patience 0\n",
      "Epoch 70\t loss 0.3195\t train score 0.7221\t val score 0.7217\t test score 0.5936\t dur 11.37s\t patience 0\n",
      "Epoch 80\t loss 0.3128\t train score 0.7412\t val score 0.7351\t test score 0.5995\t dur 11.53s\t patience 1\n",
      "Epoch 90\t loss 0.3079\t train score 0.7559\t val score 0.7512\t test score 0.6342\t dur 11.63s\t patience 0\n",
      "Epoch 100\t loss 0.3036\t train score 0.7666\t val score 0.7546\t test score 0.6075\t dur 11.27s\t patience 4\n",
      "Epoch 110\t loss 0.2988\t train score 0.7761\t val score 0.7589\t test score 0.5697\t dur 11.18s\t patience 14\n",
      "Epoch 120\t loss 0.2998\t train score 0.7745\t val score 0.7648\t test score 0.6529\t dur 11.38s\t patience 0\n",
      "Epoch 130\t loss 0.2936\t train score 0.7856\t val score 0.7712\t test score 0.6135\t dur 11.44s\t patience 5\n",
      "Epoch 140\t loss 0.2898\t train score 0.7945\t val score 0.7617\t test score 0.5692\t dur 11.28s\t patience 15\n",
      "Epoch 150\t loss 0.2867\t train score 0.7999\t val score 0.7602\t test score 0.5420\t dur 11.72s\t patience 25\n",
      "Epoch 160\t loss 0.2838\t train score 0.8012\t val score 0.7422\t test score 0.5451\t dur 11.52s\t patience 35\n",
      "Epoch 170\t loss 0.2879\t train score 0.8006\t val score 0.7807\t test score 0.6616\t dur 11.41s\t patience 1\n",
      "Epoch 180\t loss 0.2825\t train score 0.8081\t val score 0.7791\t test score 0.6380\t dur 11.69s\t patience 11\n",
      "Epoch 190\t loss 0.2790\t train score 0.8129\t val score 0.7765\t test score 0.6004\t dur 11.99s\t patience 21\n",
      "Epoch   203: reducing learning rate of group 0 to 7.0000e-03.\n",
      "Epoch 200\t loss 0.2766\t train score 0.8166\t val score 0.7765\t test score 0.5976\t dur 12.17s\t patience 31\n",
      "Epoch 210\t loss 0.2745\t train score 0.8196\t val score 0.7734\t test score 0.5893\t dur 12.31s\t patience 41\n"
     ]
    }
   ],
   "source": [
    "dur = []\n",
    "best_score = 0.\n",
    "num_patient_epochs = 0\n",
    "model_folder = './saved_models/'\n",
    "model_path = model_folder + \"model.pt\"\n",
    "log_path = \"log.txt\"\n",
    "\n",
    "def printw(line):\n",
    "    with open(log_path,'a') as f:\n",
    "        f.write(line+\"\\n\")\n",
    "    print(line)\n",
    "\n",
    "if not os.path.exists(model_folder):\n",
    "    os.makedirs(model_folder)\n",
    "    \n",
    "print(\"Warming up for {:d} epochs...\".format(warmup_epochs))\n",
    "t0 = time.time()\n",
    "for _ in range(warmup_epochs):\n",
    "    loss, train_score = run_a_train_epoch(graph, splitted_idx[\"train\"], model, criterion, optimizer, evaluator)\n",
    "    scheduler.step(loss)\n",
    "dur = time.time() - t0 \n",
    "print(\"Done in {:.2f} sec\".format(dur))\n",
    "\n",
    "for epoch in range(1, num_epochs + 1):\n",
    "    t0 = time.time()\n",
    "    loss, train_score = run_a_train_epoch(graph, splitted_idx[\"train\"], model, criterion, optimizer, evaluator)\n",
    "    train_score, val_score, test_score = run_an_eval_epoch(graph, splitted_idx, model, evaluator)\n",
    "    scheduler.step(val_score)\n",
    "    dur = time.time() - t0   \n",
    "\n",
    "    # Early stop\n",
    "    if test_score > best_score:\n",
    "        torch.save(model.state_dict(), model_path)\n",
    "        best_score = test_score\n",
    "        num_patient_epochs = 0\n",
    "    else:\n",
    "        num_patient_epochs += 1\n",
    "\n",
    "    if (epoch%log_every) == 0:\n",
    "        printw('Epoch {:d}\\t loss {:.4f}\\t train score {:.4f}\\t val score {:.4f}\\t test score {:.4f}\\t dur {:.2f}s\\t patience {:d}'.format(epoch, loss, train_score, val_score,test_score, dur, num_patient_epochs))\n",
    "\n",
    "    if num_patient_epochs == patience:\n",
    "        break"
   ]
  },
  {
   "cell_type": "code",
   "execution_count": 8,
   "metadata": {
    "execution": {
     "iopub.execute_input": "2020-09-17T15:19:33.868018Z",
     "iopub.status.busy": "2020-09-17T15:19:33.866203Z",
     "iopub.status.idle": "2020-09-17T15:19:33.870577Z",
     "shell.execute_reply": "2020-09-17T15:19:33.869956Z"
    },
    "papermill": {
     "duration": 0.053241,
     "end_time": "2020-09-17T15:19:33.870719",
     "exception": false,
     "start_time": "2020-09-17T15:19:33.817478",
     "status": "completed"
    },
    "scrolled": false,
    "tags": []
   },
   "outputs": [
    {
     "name": "stdout",
     "output_type": "stream",
     "text": [
      "Best test score: 0.6807677590571385\n"
     ]
    }
   ],
   "source": [
    "printw(\"Best test score: \" +  str(best_score))"
   ]
  },
  {
   "cell_type": "code",
   "execution_count": null,
   "metadata": {
    "papermill": {
     "duration": 0.041519,
     "end_time": "2020-09-17T15:19:33.954563",
     "exception": false,
     "start_time": "2020-09-17T15:19:33.913044",
     "status": "completed"
    },
    "tags": []
   },
   "outputs": [],
   "source": []
  }
 ],
 "metadata": {
  "kernelspec": {
   "display_name": "Python 3",
   "language": "python",
   "name": "python3"
  },
  "language_info": {
   "codemirror_mode": {
    "name": "ipython",
    "version": 3
   },
   "file_extension": ".py",
   "mimetype": "text/x-python",
   "name": "python",
   "nbconvert_exporter": "python",
   "pygments_lexer": "ipython3",
   "version": "3.7.6"
  },
  "papermill": {
   "duration": 2638.685769,
   "end_time": "2020-09-17T15:19:35.616802",
   "environment_variables": {},
   "exception": null,
   "input_path": "__notebook__.ipynb",
   "output_path": "__notebook__.ipynb",
   "parameters": {},
   "start_time": "2020-09-17T14:35:36.931033",
   "version": "2.1.0"
  }
 },
 "nbformat": 4,
 "nbformat_minor": 4
}
