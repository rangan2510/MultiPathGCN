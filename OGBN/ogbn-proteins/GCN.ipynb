{
 "cells": [
  {
   "cell_type": "code",
   "execution_count": 1,
   "metadata": {
    "execution": {
     "iopub.execute_input": "2020-09-17T11:59:49.777597Z",
     "iopub.status.busy": "2020-09-17T11:59:49.776483Z",
     "iopub.status.idle": "2020-09-17T12:00:07.802067Z",
     "shell.execute_reply": "2020-09-17T12:00:07.800535Z"
    },
    "papermill": {
     "duration": 18.051633,
     "end_time": "2020-09-17T12:00:07.802210",
     "exception": false,
     "start_time": "2020-09-17T11:59:49.750577",
     "status": "completed"
    },
    "scrolled": false,
    "tags": []
   },
   "outputs": [
    {
     "name": "stdout",
     "output_type": "stream",
     "text": [
      "Collecting dgl-cu101\r\n",
      "  Downloading dgl_cu101-0.5.2-cp37-cp37m-manylinux1_x86_64.whl (25.5 MB)\r\n",
      "\u001b[K     |████████████████████████████████| 25.5 MB 356 kB/s \r\n",
      "\u001b[?25hCollecting ogb\r\n",
      "  Downloading ogb-1.2.3-py3-none-any.whl (55 kB)\r\n",
      "\u001b[K     |████████████████████████████████| 55 kB 2.8 MB/s \r\n",
      "\u001b[?25hRequirement already satisfied: scipy>=1.1.0 in /opt/conda/lib/python3.7/site-packages (from dgl-cu101) (1.4.1)\r\n",
      "Requirement already satisfied: requests>=2.19.0 in /opt/conda/lib/python3.7/site-packages (from dgl-cu101) (2.23.0)\r\n",
      "Requirement already satisfied: numpy>=1.14.0 in /opt/conda/lib/python3.7/site-packages (from dgl-cu101) (1.18.5)\r\n",
      "Requirement already satisfied: networkx>=2.1 in /opt/conda/lib/python3.7/site-packages (from dgl-cu101) (2.4)\r\n",
      "Collecting outdated>=0.2.0\r\n",
      "  Downloading outdated-0.2.0.tar.gz (4.0 kB)\r\n",
      "Requirement already satisfied: scikit-learn>=0.20.0 in /opt/conda/lib/python3.7/site-packages (from ogb) (0.23.2)\r\n",
      "Requirement already satisfied: torch>=1.2.0 in /opt/conda/lib/python3.7/site-packages (from ogb) (1.5.1)\r\n",
      "Requirement already satisfied: six>=1.12.0 in /opt/conda/lib/python3.7/site-packages (from ogb) (1.14.0)\r\n",
      "Requirement already satisfied: pandas>=0.24.0 in /opt/conda/lib/python3.7/site-packages (from ogb) (1.1.1)\r\n",
      "Requirement already satisfied: urllib3>=1.24.0 in /opt/conda/lib/python3.7/site-packages (from ogb) (1.24.3)\r\n",
      "Requirement already satisfied: tqdm>=4.29.0 in /opt/conda/lib/python3.7/site-packages (from ogb) (4.45.0)\r\n",
      "Requirement already satisfied: chardet<4,>=3.0.2 in /opt/conda/lib/python3.7/site-packages (from requests>=2.19.0->dgl-cu101) (3.0.4)\r\n",
      "Requirement already satisfied: idna<3,>=2.5 in /opt/conda/lib/python3.7/site-packages (from requests>=2.19.0->dgl-cu101) (2.9)\r\n",
      "Requirement already satisfied: certifi>=2017.4.17 in /opt/conda/lib/python3.7/site-packages (from requests>=2.19.0->dgl-cu101) (2020.6.20)\r\n",
      "Requirement already satisfied: decorator>=4.3.0 in /opt/conda/lib/python3.7/site-packages (from networkx>=2.1->dgl-cu101) (4.4.2)\r\n",
      "Collecting littleutils\r\n",
      "  Downloading littleutils-0.2.2.tar.gz (6.6 kB)\r\n",
      "Requirement already satisfied: threadpoolctl>=2.0.0 in /opt/conda/lib/python3.7/site-packages (from scikit-learn>=0.20.0->ogb) (2.1.0)\r\n",
      "Requirement already satisfied: joblib>=0.11 in /opt/conda/lib/python3.7/site-packages (from scikit-learn>=0.20.0->ogb) (0.14.1)\r\n",
      "Requirement already satisfied: future in /opt/conda/lib/python3.7/site-packages (from torch>=1.2.0->ogb) (0.18.2)\r\n",
      "Requirement already satisfied: python-dateutil>=2.7.3 in /opt/conda/lib/python3.7/site-packages (from pandas>=0.24.0->ogb) (2.8.1)\r\n",
      "Requirement already satisfied: pytz>=2017.2 in /opt/conda/lib/python3.7/site-packages (from pandas>=0.24.0->ogb) (2019.3)\r\n",
      "Building wheels for collected packages: outdated, littleutils\r\n",
      "  Building wheel for outdated (setup.py) ... \u001b[?25l-\b \b\\\b \bdone\r\n",
      "\u001b[?25h  Created wheel for outdated: filename=outdated-0.2.0-py3-none-any.whl size=4960 sha256=a84b18539a9dbbadd36ab7d162aa0c6d2098e0c9338cf1920f330c230168b058\r\n",
      "  Stored in directory: /root/.cache/pip/wheels/6f/cd/a2/e49170b2cf59e88b952f3414f25a54d9f16f033bded4aaab26\r\n",
      "  Building wheel for littleutils (setup.py) ... \u001b[?25l-\b \b\\\b \bdone\r\n",
      "\u001b[?25h  Created wheel for littleutils: filename=littleutils-0.2.2-py3-none-any.whl size=7048 sha256=6f38473ba0be5a240b5f9117d2724acaa79bbb323889b4d8ea4cf5a332c59a03\r\n",
      "  Stored in directory: /root/.cache/pip/wheels/d6/64/cd/32819b511a488e4993f2fab909a95330289c3f4e0f6ef4676d\r\n",
      "Successfully built outdated littleutils\r\n",
      "Installing collected packages: dgl-cu101, littleutils, outdated, ogb\r\n",
      "Successfully installed dgl-cu101-0.5.2 littleutils-0.2.2 ogb-1.2.3 outdated-0.2.0\r\n",
      "\u001b[33mWARNING: You are using pip version 20.2.2; however, version 20.2.3 is available.\r\n",
      "You should consider upgrading via the '/opt/conda/bin/python3.7 -m pip install --upgrade pip' command.\u001b[0m\r\n"
     ]
    }
   ],
   "source": [
    "#%%\n",
    "! pip install dgl-cu101 ogb\n",
    "ROOT = \"/kaggle/input/obgnproteins-dgl-data/\""
   ]
  },
  {
   "cell_type": "code",
   "execution_count": 2,
   "metadata": {
    "execution": {
     "iopub.execute_input": "2020-09-17T12:00:07.874527Z",
     "iopub.status.busy": "2020-09-17T12:00:07.873521Z",
     "iopub.status.idle": "2020-09-17T12:00:15.016627Z",
     "shell.execute_reply": "2020-09-17T12:00:15.015842Z"
    },
    "papermill": {
     "duration": 7.184226,
     "end_time": "2020-09-17T12:00:15.016752",
     "exception": false,
     "start_time": "2020-09-17T12:00:07.832526",
     "status": "completed"
    },
    "scrolled": false,
    "tags": []
   },
   "outputs": [
    {
     "name": "stdout",
     "output_type": "stream",
     "text": [
      "Setting the default backend to \"pytorch\". You can change it in the ~/.dgl/config.json file or export the DGLBACKEND environment variable.  Valid options are: pytorch, mxnet, tensorflow (all lowercase)\n"
     ]
    },
    {
     "name": "stderr",
     "output_type": "stream",
     "text": [
      "DGL backend not selected or invalid.  Assuming PyTorch for now.\n",
      "Using backend: pytorch\n"
     ]
    }
   ],
   "source": [
    "from dgl.data.utils import load_graphs\n",
    "import numpy as np\n",
    "import random\n",
    "import os\n",
    "import math\n",
    "import time\n",
    "import torch\n",
    "import torch.nn as nn\n",
    "import torch.nn.functional as F\n",
    "import dgl\n",
    "import dgl.function as fn\n",
    "from dgl import DGLGraph\n",
    "from dgl.nn import GraphConv, SAGEConv\n",
    "from ogb.nodeproppred import Evaluator\n",
    "from torch.optim import Adam\n",
    "from torch.utils.tensorboard import SummaryWriter\n",
    "from torch.optim.lr_scheduler import ReduceLROnPlateau\n",
    "\n",
    "x,_ = load_graphs(ROOT + \"data.bin\")\n",
    "graph = x[0]\n",
    "\n",
    "train_idx = torch.load(ROOT + 'train.pt')\n",
    "test_idx = torch.load(ROOT + 'test.pt')\n",
    "valid_idx = torch.load(ROOT + 'valid.pt')\n",
    "\n",
    "splitted_idx = {'train':train_idx, 'test':test_idx, 'valid':valid_idx}\n",
    "\n",
    "device = torch.device('cuda')"
   ]
  },
  {
   "cell_type": "code",
   "execution_count": 3,
   "metadata": {
    "execution": {
     "iopub.execute_input": "2020-09-17T12:00:15.086146Z",
     "iopub.status.busy": "2020-09-17T12:00:15.085409Z",
     "iopub.status.idle": "2020-09-17T12:00:17.762626Z",
     "shell.execute_reply": "2020-09-17T12:00:17.763759Z"
    },
    "papermill": {
     "duration": 2.716784,
     "end_time": "2020-09-17T12:00:17.763942",
     "exception": false,
     "start_time": "2020-09-17T12:00:15.047158",
     "status": "completed"
    },
    "scrolled": false,
    "tags": []
   },
   "outputs": [],
   "source": [
    "# copy mean of edge features to node\n",
    "# split node feature for every channel of the edge\n",
    "graph.update_all(fn.copy_e('feat','m'),fn.sum('m','edata_mean'))\n",
    "\n",
    "n_feat = graph.ndata['edata_mean'].shape[1]\n",
    "\n",
    "for channel in range(n_feat):\n",
    "        graph.ndata['feat_' + str(channel)] = graph.ndata['edata_mean'][:, channel:channel+1]\n"
   ]
  },
  {
   "cell_type": "code",
   "execution_count": 4,
   "metadata": {
    "execution": {
     "iopub.execute_input": "2020-09-17T12:00:17.866136Z",
     "iopub.status.busy": "2020-09-17T12:00:17.865217Z",
     "iopub.status.idle": "2020-09-17T12:00:17.887586Z",
     "shell.execute_reply": "2020-09-17T12:00:17.888659Z"
    },
    "papermill": {
     "duration": 0.076797,
     "end_time": "2020-09-17T12:00:17.888821",
     "exception": false,
     "start_time": "2020-09-17T12:00:17.812024",
     "status": "completed"
    },
    "scrolled": false,
    "tags": []
   },
   "outputs": [],
   "source": [
    "def set_random_seed(seed):\n",
    "    random.seed(seed)\n",
    "    np.random.seed(seed)\n",
    "    torch.manual_seed(seed)\n",
    "    if torch.cuda.is_available():\n",
    "        torch.cuda.manual_seed(seed)\n",
    "    print ('random seed set to be ' + str(seed))\n",
    "\n",
    "def run_a_train_epoch(graph, node_idx, model, criterion, optimizer, evaluator):\n",
    "    model.train()\n",
    "    logits = model(graph)[node_idx]\n",
    "    labels = graph.ndata['labels'][node_idx]\n",
    "    loss = criterion(logits, labels)\n",
    "    optimizer.zero_grad()\n",
    "    loss.backward()\n",
    "    optimizer.step()\n",
    "\n",
    "    loss = loss.data.item()\n",
    "    labels = labels.cpu().numpy()\n",
    "    preds = logits.cpu().detach().numpy()\n",
    "\n",
    "    return loss, evaluator.eval({\"y_true\": labels, \"y_pred\": preds})['rocauc']\n",
    "\n",
    "def run_an_eval_epoch(graph, splitted_idx, model, evaluator):\n",
    "    model.eval()\n",
    "    with torch.no_grad():\n",
    "        logits = model(graph)\n",
    "    labels = graph.ndata['labels'].cpu().numpy()\n",
    "    preds = logits.cpu().detach().numpy()\n",
    "\n",
    "    train_score = evaluator.eval({\n",
    "        \"y_true\": labels[splitted_idx[\"train\"]],\n",
    "        \"y_pred\": preds[splitted_idx[\"train\"]]\n",
    "    })\n",
    "    val_score = evaluator.eval({\n",
    "        \"y_true\": labels[splitted_idx[\"valid\"]],\n",
    "        \"y_pred\": preds[splitted_idx[\"valid\"]]\n",
    "    })\n",
    "    test_score = evaluator.eval({\n",
    "        \"y_true\": labels[splitted_idx[\"test\"]],\n",
    "        \"y_pred\": preds[splitted_idx[\"test\"]]\n",
    "    })\n",
    "\n",
    "    return train_score['rocauc'], val_score['rocauc'], test_score['rocauc']"
   ]
  },
  {
   "cell_type": "code",
   "execution_count": 5,
   "metadata": {
    "execution": {
     "iopub.execute_input": "2020-09-17T12:00:17.970254Z",
     "iopub.status.busy": "2020-09-17T12:00:17.969447Z",
     "iopub.status.idle": "2020-09-17T12:00:18.578134Z",
     "shell.execute_reply": "2020-09-17T12:00:18.579096Z"
    },
    "papermill": {
     "duration": 0.655988,
     "end_time": "2020-09-17T12:00:18.579261",
     "exception": false,
     "start_time": "2020-09-17T12:00:17.923273",
     "status": "completed"
    },
    "scrolled": false,
    "tags": []
   },
   "outputs": [
    {
     "name": "stdout",
     "output_type": "stream",
     "text": [
      "random seed set to be 0\n"
     ]
    }
   ],
   "source": [
    "set_random_seed(0)\n",
    "\n",
    "class Block(nn.Module):\n",
    "    def __init__(self,in_feats,out_feats,num_channels=8):\n",
    "        super(Block, self).__init__()\n",
    "        self.gc = GraphConv(in_feats, out_feats)\n",
    "        \n",
    "    def forward(self, g, node_state):\n",
    "        node_states = self.gc(g, node_state)\n",
    "        node_states = F.relu(node_states)\n",
    "        return node_states\n",
    "\n",
    "class Net(nn.Module):\n",
    "    def __init__(self, in_feats, n_hidden, out_feats,num_paths=2):\n",
    "        super(Net, self).__init__()\n",
    "        self.num_paths = num_paths\n",
    "        self.init = Block(in_feats, n_hidden)\n",
    "        self.lyrs = nn.ModuleList()\n",
    "        for _ in range(6):\n",
    "            self.lyrs.append(Block(n_hidden, n_hidden))\n",
    "        self.lin = nn.Linear(n_hidden, out_feats)\n",
    "        \n",
    "    def forward(self, g):\n",
    "        node_state = g.ndata['edata_mean']\n",
    "        out = self.init(g, node_state)\n",
    "        _out = out\n",
    "        for i in range(6):\n",
    "            out = self.lyrs[i](g, out)\n",
    "        # for i in range(4,6):\n",
    "        #     _out = self.lyrs[i](g, _out)\n",
    "        # out = torch.stack([out, _out],dim=1).sum(1)\n",
    "        out = self.lin(out)\n",
    "        return out"
   ]
  },
  {
   "cell_type": "code",
   "execution_count": 6,
   "metadata": {
    "execution": {
     "iopub.execute_input": "2020-09-17T12:00:18.653083Z",
     "iopub.status.busy": "2020-09-17T12:00:18.652266Z",
     "iopub.status.idle": "2020-09-17T12:00:23.979939Z",
     "shell.execute_reply": "2020-09-17T12:00:23.980621Z"
    },
    "papermill": {
     "duration": 5.370876,
     "end_time": "2020-09-17T12:00:23.980780",
     "exception": false,
     "start_time": "2020-09-17T12:00:18.609904",
     "status": "completed"
    },
    "scrolled": false,
    "tags": []
   },
   "outputs": [
    {
     "name": "stdout",
     "output_type": "stream",
     "text": [
      "scheduler min_lr 0.001\n"
     ]
    }
   ],
   "source": [
    "warmup_epochs = 10\n",
    "num_epochs = 200\n",
    "patience = 50\n",
    "log_every = 10\n",
    "lr = 1e-2\n",
    "weight_decay = 0\n",
    "\n",
    "model = Net(in_feats=8, n_hidden=256, out_feats=112).to(device)\n",
    "graph = graph.to(device)\n",
    "\n",
    "optimizer = Adam(model.parameters(), lr=lr, weight_decay=weight_decay)\n",
    "min_lr = 1e-3\n",
    "scheduler = ReduceLROnPlateau(optimizer, 'max', factor=0.7, patience=200,  verbose=True, cooldown=20, min_lr=min_lr)\n",
    "print ('scheduler min_lr', min_lr)\n",
    "criterion = nn.BCEWithLogitsLoss()\n",
    "evaluator = Evaluator('ogbn-proteins')\n"
   ]
  },
  {
   "cell_type": "code",
   "execution_count": 7,
   "metadata": {
    "execution": {
     "iopub.execute_input": "2020-09-17T12:00:24.063832Z",
     "iopub.status.busy": "2020-09-17T12:00:24.062770Z",
     "iopub.status.idle": "2020-09-17T12:43:00.202521Z",
     "shell.execute_reply": "2020-09-17T12:43:00.203266Z"
    },
    "papermill": {
     "duration": 2556.189353,
     "end_time": "2020-09-17T12:43:00.203440",
     "exception": false,
     "start_time": "2020-09-17T12:00:24.014087",
     "status": "completed"
    },
    "scrolled": false,
    "tags": []
   },
   "outputs": [
    {
     "name": "stdout",
     "output_type": "stream",
     "text": [
      "Warming up for 10 epochs...\n",
      "Done in 58.38 sec\n",
      "Epoch 10\t loss 0.4114\t train score 0.4661\t val score 0.3294\t test score 0.3710\t dur 12.28s\t patience 9\n",
      "Epoch 20\t loss 0.3784\t train score 0.5440\t val score 0.4826\t test score 0.5407\t dur 11.95s\t patience 0\n",
      "Epoch 30\t loss 0.3566\t train score 0.5976\t val score 0.6007\t test score 0.6339\t dur 12.29s\t patience 1\n",
      "Epoch 40\t loss 0.3281\t train score 0.6431\t val score 0.6701\t test score 0.6757\t dur 12.34s\t patience 1\n",
      "Epoch 50\t loss 0.3146\t train score 0.7284\t val score 0.7283\t test score 0.7014\t dur 12.46s\t patience 0\n",
      "Epoch 60\t loss 0.3064\t train score 0.7499\t val score 0.7366\t test score 0.7045\t dur 12.58s\t patience 4\n",
      "Epoch 70\t loss 0.3057\t train score 0.7544\t val score 0.7426\t test score 0.7084\t dur 13.39s\t patience 2\n",
      "Epoch 80\t loss 0.3037\t train score 0.7570\t val score 0.7481\t test score 0.7099\t dur 12.75s\t patience 2\n",
      "Epoch 90\t loss 0.3012\t train score 0.7614\t val score 0.7477\t test score 0.7112\t dur 12.67s\t patience 12\n",
      "Epoch 100\t loss 0.2983\t train score 0.7694\t val score 0.7555\t test score 0.7189\t dur 12.13s\t patience 0\n",
      "Epoch 110\t loss 0.2963\t train score 0.7749\t val score 0.7588\t test score 0.7230\t dur 12.69s\t patience 7\n",
      "Epoch 120\t loss 0.2934\t train score 0.7828\t val score 0.7604\t test score 0.7260\t dur 12.59s\t patience 3\n",
      "Epoch 130\t loss 0.2922\t train score 0.7882\t val score 0.7623\t test score 0.7256\t dur 12.44s\t patience 1\n",
      "Epoch 140\t loss 0.2947\t train score 0.7877\t val score 0.7658\t test score 0.7330\t dur 12.30s\t patience 3\n",
      "Epoch 150\t loss 0.2907\t train score 0.7913\t val score 0.7635\t test score 0.7307\t dur 12.18s\t patience 2\n",
      "Epoch 160\t loss 0.3104\t train score 0.7735\t val score 0.7410\t test score 0.7308\t dur 12.36s\t patience 6\n",
      "Epoch 170\t loss 0.2908\t train score 0.7888\t val score 0.7581\t test score 0.7275\t dur 11.95s\t patience 16\n",
      "Epoch 180\t loss 0.2883\t train score 0.7930\t val score 0.7614\t test score 0.7313\t dur 12.26s\t patience 26\n",
      "Epoch 190\t loss 0.2857\t train score 0.7982\t val score 0.7637\t test score 0.7310\t dur 12.85s\t patience 36\n",
      "Epoch   203: reducing learning rate of group 0 to 7.0000e-03.\n",
      "Epoch 200\t loss 0.2854\t train score 0.8018\t val score 0.7747\t test score 0.7349\t dur 12.63s\t patience 46\n"
     ]
    }
   ],
   "source": [
    "dur = []\n",
    "best_score = 0.\n",
    "num_patient_epochs = 0\n",
    "model_folder = './saved_models/'\n",
    "model_path = model_folder + \"model.pt\"\n",
    "log_path = \"log.txt\"\n",
    "\n",
    "def printw(line):\n",
    "    with open(log_path,'a') as f:\n",
    "        f.write(line+\"\\n\")\n",
    "    print(line)\n",
    "\n",
    "if not os.path.exists(model_folder):\n",
    "    os.makedirs(model_folder)\n",
    "    \n",
    "print(\"Warming up for {:d} epochs...\".format(warmup_epochs))\n",
    "t0 = time.time()\n",
    "for _ in range(warmup_epochs):\n",
    "    loss, train_score = run_a_train_epoch(graph, splitted_idx[\"train\"], model, criterion, optimizer, evaluator)\n",
    "    scheduler.step(loss)\n",
    "dur = time.time() - t0 \n",
    "print(\"Done in {:.2f} sec\".format(dur))\n",
    "\n",
    "for epoch in range(1, num_epochs + 1):\n",
    "    t0 = time.time()\n",
    "    loss, train_score = run_a_train_epoch(graph, splitted_idx[\"train\"], model, criterion, optimizer, evaluator)\n",
    "    train_score, val_score, test_score = run_an_eval_epoch(graph, splitted_idx, model, evaluator)\n",
    "    scheduler.step(val_score)\n",
    "    dur = time.time() - t0   \n",
    "\n",
    "    # Early stop\n",
    "    if test_score > best_score:\n",
    "        torch.save(model.state_dict(), model_path)\n",
    "        best_score = test_score\n",
    "        num_patient_epochs = 0\n",
    "    else:\n",
    "        num_patient_epochs += 1\n",
    "\n",
    "    if (epoch%log_every) == 0:\n",
    "        printw('Epoch {:d}\\t loss {:.4f}\\t train score {:.4f}\\t val score {:.4f}\\t test score {:.4f}\\t dur {:.2f}s\\t patience {:d}'.format(epoch, loss, train_score, val_score,test_score, dur, num_patient_epochs))\n",
    "\n",
    "    if num_patient_epochs == patience:\n",
    "        break"
   ]
  },
  {
   "cell_type": "code",
   "execution_count": 8,
   "metadata": {
    "execution": {
     "iopub.execute_input": "2020-09-17T12:43:00.293549Z",
     "iopub.status.busy": "2020-09-17T12:43:00.292537Z",
     "iopub.status.idle": "2020-09-17T12:43:00.299722Z",
     "shell.execute_reply": "2020-09-17T12:43:00.298982Z"
    },
    "papermill": {
     "duration": 0.054119,
     "end_time": "2020-09-17T12:43:00.299862",
     "exception": false,
     "start_time": "2020-09-17T12:43:00.245743",
     "status": "completed"
    },
    "scrolled": false,
    "tags": []
   },
   "outputs": [
    {
     "name": "stdout",
     "output_type": "stream",
     "text": [
      "Best test score: 0.7388818116336939\n"
     ]
    }
   ],
   "source": [
    "printw(\"Best test score: \" +  str(best_score))"
   ]
  },
  {
   "cell_type": "code",
   "execution_count": null,
   "metadata": {
    "papermill": {
     "duration": 0.09137,
     "end_time": "2020-09-17T12:43:00.434399",
     "exception": false,
     "start_time": "2020-09-17T12:43:00.343029",
     "status": "completed"
    },
    "tags": []
   },
   "outputs": [],
   "source": []
  }
 ],
 "metadata": {
  "kernelspec": {
   "display_name": "Python 3",
   "language": "python",
   "name": "python3"
  },
  "language_info": {
   "codemirror_mode": {
    "name": "ipython",
    "version": 3
   },
   "file_extension": ".py",
   "mimetype": "text/x-python",
   "name": "python",
   "nbconvert_exporter": "python",
   "pygments_lexer": "ipython3",
   "version": "3.7.6"
  },
  "papermill": {
   "duration": 2596.698879,
   "end_time": "2020-09-17T12:43:02.173485",
   "environment_variables": {},
   "exception": null,
   "input_path": "__notebook__.ipynb",
   "output_path": "__notebook__.ipynb",
   "parameters": {},
   "start_time": "2020-09-17T11:59:45.474606",
   "version": "2.1.0"
  }
 },
 "nbformat": 4,
 "nbformat_minor": 4
}
